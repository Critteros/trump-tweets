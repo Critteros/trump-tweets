{
 "cells": [
  {
   "cell_type": "code",
   "execution_count": 1,
   "metadata": {
    "ExecuteTime": {
     "end_time": "2023-06-24T13:42:33.608676197Z",
     "start_time": "2023-06-24T13:40:51.715036555Z"
    }
   },
   "outputs": [
    {
     "name": "stdout",
     "output_type": "stream",
     "text": [
      "Collecting scikit-learn\r\n",
      "  Using cached scikit_learn-1.2.2-cp310-cp310-manylinux_2_17_x86_64.manylinux2014_x86_64.whl (9.6 MB)\r\n",
      "Collecting numpy>=1.17.3 (from scikit-learn)\r\n",
      "  Downloading numpy-1.25.0-cp310-cp310-manylinux_2_17_x86_64.manylinux2014_x86_64.whl (17.6 MB)\r\n",
      "\u001B[2K     \u001B[90m━━━━━━━━━━━━━━━━━━━━━━━━━━━━━━━━━━━━━━━━\u001B[0m \u001B[32m17.6/17.6 MB\u001B[0m \u001B[31m6.9 MB/s\u001B[0m eta \u001B[36m0:00:00\u001B[0m00:01\u001B[0m00:01\u001B[0m\r\n",
      "\u001B[?25hCollecting scipy>=1.3.2 (from scikit-learn)\r\n",
      "  Using cached scipy-1.10.1-cp310-cp310-manylinux_2_17_x86_64.manylinux2014_x86_64.whl (34.4 MB)\r\n",
      "Collecting joblib>=1.1.1 (from scikit-learn)\r\n",
      "  Using cached joblib-1.2.0-py3-none-any.whl (297 kB)\r\n",
      "Collecting threadpoolctl>=2.0.0 (from scikit-learn)\r\n",
      "  Using cached threadpoolctl-3.1.0-py3-none-any.whl (14 kB)\r\n",
      "Installing collected packages: threadpoolctl, numpy, joblib, scipy, scikit-learn\r\n",
      "Successfully installed joblib-1.2.0 numpy-1.25.0 scikit-learn-1.2.2 scipy-1.10.1 threadpoolctl-3.1.0\r\n",
      "Note: you may need to restart the kernel to use updated packages.\n",
      "Collecting xgboost\r\n",
      "  Downloading xgboost-1.7.6-py3-none-manylinux2014_x86_64.whl (200.3 MB)\r\n",
      "\u001B[2K     \u001B[90m━━━━━━━━━━━━━━━━━━━━━━━━━━━━━━━━━━━━━━━\u001B[0m \u001B[32m200.3/200.3 MB\u001B[0m \u001B[31m2.3 MB/s\u001B[0m eta \u001B[36m0:00:00\u001B[0m00:01\u001B[0m00:05\u001B[0m\r\n",
      "\u001B[?25hRequirement already satisfied: numpy in ./venv/lib/python3.10/site-packages (from xgboost) (1.25.0)\r\n",
      "Requirement already satisfied: scipy in ./venv/lib/python3.10/site-packages (from xgboost) (1.10.1)\r\n",
      "Installing collected packages: xgboost\r\n",
      "Successfully installed xgboost-1.7.6\r\n",
      "Note: you may need to restart the kernel to use updated packages.\n",
      "Collecting nltk\r\n",
      "  Using cached nltk-3.8.1-py3-none-any.whl (1.5 MB)\r\n",
      "Collecting click (from nltk)\r\n",
      "  Using cached click-8.1.3-py3-none-any.whl (96 kB)\r\n",
      "Requirement already satisfied: joblib in ./venv/lib/python3.10/site-packages (from nltk) (1.2.0)\r\n",
      "Collecting regex>=2021.8.3 (from nltk)\r\n",
      "  Using cached regex-2023.6.3-cp310-cp310-manylinux_2_17_x86_64.manylinux2014_x86_64.whl (770 kB)\r\n",
      "Collecting tqdm (from nltk)\r\n",
      "  Using cached tqdm-4.65.0-py3-none-any.whl (77 kB)\r\n",
      "Installing collected packages: tqdm, regex, click, nltk\r\n",
      "Successfully installed click-8.1.3 nltk-3.8.1 regex-2023.6.3 tqdm-4.65.0\r\n",
      "Note: you may need to restart the kernel to use updated packages.\n",
      "Requirement already satisfied: numpy in ./venv/lib/python3.10/site-packages (1.25.0)\r\n",
      "Note: you may need to restart the kernel to use updated packages.\n",
      "Collecting pandas\r\n",
      "  Downloading pandas-2.0.2-cp310-cp310-manylinux_2_17_x86_64.manylinux2014_x86_64.whl (12.3 MB)\r\n",
      "\u001B[2K     \u001B[90m━━━━━━━━━━━━━━━━━━━━━━━━━━━━━━━━━━━━━━━━\u001B[0m \u001B[32m12.3/12.3 MB\u001B[0m \u001B[31m9.4 MB/s\u001B[0m eta \u001B[36m0:00:00\u001B[0m00:01\u001B[0mm00:01\u001B[0m\r\n",
      "\u001B[?25hRequirement already satisfied: python-dateutil>=2.8.2 in ./venv/lib/python3.10/site-packages (from pandas) (2.8.2)\r\n",
      "Collecting pytz>=2020.1 (from pandas)\r\n",
      "  Downloading pytz-2023.3-py2.py3-none-any.whl (502 kB)\r\n",
      "\u001B[2K     \u001B[90m━━━━━━━━━━━━━━━━━━━━━━━━━━━━━━━━━━━━━━━\u001B[0m \u001B[32m502.3/502.3 kB\u001B[0m \u001B[31m6.1 MB/s\u001B[0m eta \u001B[36m0:00:00\u001B[0m00:01\u001B[0m00:01\u001B[0m\r\n",
      "\u001B[?25hCollecting tzdata>=2022.1 (from pandas)\r\n",
      "  Downloading tzdata-2023.3-py2.py3-none-any.whl (341 kB)\r\n",
      "\u001B[2K     \u001B[90m━━━━━━━━━━━━━━━━━━━━━━━━━━━━━━━━━━━━━━━\u001B[0m \u001B[32m341.8/341.8 kB\u001B[0m \u001B[31m6.4 MB/s\u001B[0m eta \u001B[36m0:00:00\u001B[0ma \u001B[36m0:00:01\u001B[0m\r\n",
      "\u001B[?25hRequirement already satisfied: numpy>=1.21.0 in ./venv/lib/python3.10/site-packages (from pandas) (1.25.0)\r\n",
      "Requirement already satisfied: six>=1.5 in ./venv/lib/python3.10/site-packages (from python-dateutil>=2.8.2->pandas) (1.16.0)\r\n",
      "Installing collected packages: pytz, tzdata, pandas\r\n",
      "Successfully installed pandas-2.0.2 pytz-2023.3 tzdata-2023.3\r\n",
      "Note: you may need to restart the kernel to use updated packages.\n",
      "Collecting matplotlib\r\n",
      "  Using cached matplotlib-3.7.1-cp310-cp310-manylinux_2_17_x86_64.manylinux2014_x86_64.whl (11.6 MB)\r\n",
      "Collecting contourpy>=1.0.1 (from matplotlib)\r\n",
      "  Downloading contourpy-1.1.0-cp310-cp310-manylinux_2_17_x86_64.manylinux2014_x86_64.whl (300 kB)\r\n",
      "\u001B[2K     \u001B[90m━━━━━━━━━━━━━━━━━━━━━━━━━━━━━━━━━━━━━━━\u001B[0m \u001B[32m300.7/300.7 kB\u001B[0m \u001B[31m2.8 MB/s\u001B[0m eta \u001B[36m0:00:00\u001B[0ma \u001B[36m0:00:01\u001B[0m\r\n",
      "\u001B[?25hCollecting cycler>=0.10 (from matplotlib)\r\n",
      "  Using cached cycler-0.11.0-py3-none-any.whl (6.4 kB)\r\n",
      "Collecting fonttools>=4.22.0 (from matplotlib)\r\n",
      "  Downloading fonttools-4.40.0-cp310-cp310-manylinux_2_17_x86_64.manylinux2014_x86_64.whl (4.2 MB)\r\n",
      "\u001B[2K     \u001B[90m━━━━━━━━━━━━━━━━━━━━━━━━━━━━━━━━━━━━━━━━\u001B[0m \u001B[32m4.2/4.2 MB\u001B[0m \u001B[31m10.8 MB/s\u001B[0m eta \u001B[36m0:00:00\u001B[0m00:01\u001B[0m00:01\u001B[0m\r\n",
      "\u001B[?25hCollecting kiwisolver>=1.0.1 (from matplotlib)\r\n",
      "  Using cached kiwisolver-1.4.4-cp310-cp310-manylinux_2_12_x86_64.manylinux2010_x86_64.whl (1.6 MB)\r\n",
      "Requirement already satisfied: numpy>=1.20 in ./venv/lib/python3.10/site-packages (from matplotlib) (1.25.0)\r\n",
      "Requirement already satisfied: packaging>=20.0 in ./venv/lib/python3.10/site-packages (from matplotlib) (23.1)\r\n",
      "Collecting pillow>=6.2.0 (from matplotlib)\r\n",
      "  Using cached Pillow-9.5.0-cp310-cp310-manylinux_2_28_x86_64.whl (3.4 MB)\r\n",
      "Collecting pyparsing>=2.3.1 (from matplotlib)\r\n",
      "  Downloading pyparsing-3.1.0-py3-none-any.whl (102 kB)\r\n",
      "\u001B[2K     \u001B[90m━━━━━━━━━━━━━━━━━━━━━━━━━━━━━━━━━━━━━━━\u001B[0m \u001B[32m102.6/102.6 kB\u001B[0m \u001B[31m7.0 MB/s\u001B[0m eta \u001B[36m0:00:00\u001B[0m\r\n",
      "\u001B[?25hRequirement already satisfied: python-dateutil>=2.7 in ./venv/lib/python3.10/site-packages (from matplotlib) (2.8.2)\r\n",
      "Requirement already satisfied: six>=1.5 in ./venv/lib/python3.10/site-packages (from python-dateutil>=2.7->matplotlib) (1.16.0)\r\n",
      "Installing collected packages: pyparsing, pillow, kiwisolver, fonttools, cycler, contourpy, matplotlib\r\n",
      "Successfully installed contourpy-1.1.0 cycler-0.11.0 fonttools-4.40.0 kiwisolver-1.4.4 matplotlib-3.7.1 pillow-9.5.0 pyparsing-3.1.0\r\n",
      "Note: you may need to restart the kernel to use updated packages.\n",
      "\u001B[31mERROR: Could not find a version that satisfies the requirement tesnorflow (from versions: none)\u001B[0m\u001B[31m\r\n",
      "\u001B[0m\u001B[31mERROR: No matching distribution found for tesnorflow\u001B[0m\u001B[31m\r\n",
      "\u001B[0mNote: you may need to restart the kernel to use updated packages.\n"
     ]
    }
   ],
   "source": [
    "%pip install scikit-learn\n",
    "%pip install xgboost\n",
    "%pip install nltk\n",
    "%pip install numpy\n",
    "%pip install pandas\n",
    "%pip install matplotlib\n",
    "%pip install tesnorflow"
   ]
  },
  {
   "cell_type": "code",
   "execution_count": 2,
   "metadata": {
    "ExecuteTime": {
     "end_time": "2023-06-24T14:13:00.658763861Z",
     "start_time": "2023-06-24T14:12:59.214965870Z"
    }
   },
   "outputs": [],
   "source": [
    "import nltk\n",
    "import re\n",
    "import sklearn.model_selection\n",
    "import pandas as pd\n",
    "import xgboost as xgb\n",
    "from nltk.stem.porter import PorterStemmer\n",
    "from sklearn.feature_extraction.text import CountVectorizer\n",
    "from nltk.sentiment.vader import SentimentIntensityAnalyzer"
   ]
  },
  {
   "cell_type": "code",
   "execution_count": 3,
   "metadata": {
    "ExecuteTime": {
     "end_time": "2023-06-24T14:13:03.646434510Z",
     "start_time": "2023-06-24T14:13:03.213137650Z"
    }
   },
   "outputs": [
    {
     "name": "stderr",
     "output_type": "stream",
     "text": [
      "[nltk_data] Downloading package vader_lexicon to\n",
      "[nltk_data]     /home/ignatella/nltk_data...\n",
      "[nltk_data] Downloading package stopwords to\n",
      "[nltk_data]     /home/ignatella/nltk_data...\n",
      "[nltk_data]   Package stopwords is already up-to-date!\n"
     ]
    },
    {
     "data": {
      "text/plain": "True"
     },
     "execution_count": 3,
     "metadata": {},
     "output_type": "execute_result"
    }
   ],
   "source": [
    "nltk.download('vader_lexicon')\n",
    "nltk.download('stopwords')"
   ]
  },
  {
   "cell_type": "code",
   "execution_count": 41,
   "metadata": {
    "ExecuteTime": {
     "end_time": "2023-06-24T14:34:30.105506965Z",
     "start_time": "2023-06-24T14:34:29.947061005Z"
    }
   },
   "outputs": [],
   "source": [
    "data = pd.read_csv('trumptweets.csv')"
   ]
  },
  {
   "cell_type": "code",
   "execution_count": 42,
   "metadata": {
    "ExecuteTime": {
     "end_time": "2023-06-24T14:34:30.908518564Z",
     "start_time": "2023-06-24T14:34:30.890424395Z"
    }
   },
   "outputs": [],
   "source": [
    "stopwords = nltk.corpus.stopwords.words(\"english\")\n",
    "\n",
    "other_exclusions = [\"#ff\", \"ff\", \"rt\"]\n",
    "stopwords.extend(other_exclusions)"
   ]
  },
  {
   "attachments": {},
   "cell_type": "markdown",
   "metadata": {},
   "source": [
    "## Data preprocessing"
   ]
  },
  {
   "cell_type": "code",
   "execution_count": 43,
   "metadata": {
    "ExecuteTime": {
     "end_time": "2023-06-24T14:34:32.865143919Z",
     "start_time": "2023-06-24T14:34:32.310631931Z"
    }
   },
   "outputs": [],
   "source": [
    "space_pattern = '\\s+'\n",
    "giant_url_regex = ('http[s]?://(?:[a-zA-Z]|[0-9]|[$-_@.&+]|'\n",
    "                   '[!*\\(\\),]|(?:%[0-9a-fA-F][0-9a-fA-F]))+')\n",
    "mention_regex = '@[\\w\\-]+'\n",
    "data['content'] = data['content'].apply(lambda x: re.sub(space_pattern, ' ', x))\n",
    "data['content'] = data['content'].apply(lambda x: re.sub(giant_url_regex, 'URL', x))\n",
    "data['content'] = data['content'].apply(lambda x: re.sub(mention_regex, 'MENTION', x))"
   ]
  },
  {
   "cell_type": "code",
   "execution_count": 46,
   "metadata": {
    "ExecuteTime": {
     "end_time": "2023-06-24T14:45:57.111111402Z",
     "start_time": "2023-06-24T14:41:53.667537705Z"
    }
   },
   "outputs": [],
   "source": [
    "def make_sentiment(tweet):\n",
    "    sentiment = SentimentIntensityAnalyzer()\n",
    "    sentiment_scores = sentiment.polarity_scores(tweet)\n",
    "    compound_score = sentiment_scores['compound']\n",
    "    return compound_score\n",
    "    # if compound_score >= 0.05:\n",
    "    #     return 'positive'\n",
    "    # elif compound_score <= -0.05:\n",
    "    #     return 'negative'\n",
    "    # else:\n",
    "    #     return 'neutral'\n",
    "\n",
    "\n",
    "data['sentiment'] = data['content'].apply(make_sentiment)\n",
    "data.to_csv('sentiment_labels.csv', index=False)"
   ]
  },
  {
   "cell_type": "code",
   "execution_count": 47,
   "outputs": [
    {
     "data": {
      "text/plain": "sentiment\n 0.0000    7247\n 0.4404     835\n 0.4199     672\n 0.6588     596\n 0.3612     475\n           ... \n 0.4689       1\n 0.2782       1\n-0.8492       1\n 0.0108       1\n 0.4407       1\nName: count, Length: 5707, dtype: int64"
     },
     "execution_count": 47,
     "metadata": {},
     "output_type": "execute_result"
    }
   ],
   "source": [
    "data['sentiment'].value_counts()"
   ],
   "metadata": {
    "collapsed": false,
    "ExecuteTime": {
     "end_time": "2023-06-24T14:57:25.448255113Z",
     "start_time": "2023-06-24T14:57:25.378972082Z"
    }
   }
  },
  {
   "cell_type": "code",
   "execution_count": 48,
   "outputs": [
    {
     "data": {
      "text/plain": "                 id       retweets      favorites  geo     sentiment\ncount  4.112200e+04   41122.000000   41122.000000  0.0  41122.000000\nmean   6.088909e+17    5455.590657   22356.899105  NaN      0.221528\nstd    3.027946e+17   10130.076661   41501.859711  NaN      0.529607\nmin    1.698309e+09       0.000000       0.000000  NaN     -0.986400\n25%    3.549428e+17      25.000000      28.000000  NaN      0.000000\n50%    5.609149e+17     291.000000     247.000000  NaN      0.359500\n75%    7.941218e+17    8778.000000   32970.750000  NaN      0.670500\nmax    1.219077e+18  309892.000000  857678.000000  NaN      0.989900",
      "text/html": "<div>\n<style scoped>\n    .dataframe tbody tr th:only-of-type {\n        vertical-align: middle;\n    }\n\n    .dataframe tbody tr th {\n        vertical-align: top;\n    }\n\n    .dataframe thead th {\n        text-align: right;\n    }\n</style>\n<table border=\"1\" class=\"dataframe\">\n  <thead>\n    <tr style=\"text-align: right;\">\n      <th></th>\n      <th>id</th>\n      <th>retweets</th>\n      <th>favorites</th>\n      <th>geo</th>\n      <th>sentiment</th>\n    </tr>\n  </thead>\n  <tbody>\n    <tr>\n      <th>count</th>\n      <td>4.112200e+04</td>\n      <td>41122.000000</td>\n      <td>41122.000000</td>\n      <td>0.0</td>\n      <td>41122.000000</td>\n    </tr>\n    <tr>\n      <th>mean</th>\n      <td>6.088909e+17</td>\n      <td>5455.590657</td>\n      <td>22356.899105</td>\n      <td>NaN</td>\n      <td>0.221528</td>\n    </tr>\n    <tr>\n      <th>std</th>\n      <td>3.027946e+17</td>\n      <td>10130.076661</td>\n      <td>41501.859711</td>\n      <td>NaN</td>\n      <td>0.529607</td>\n    </tr>\n    <tr>\n      <th>min</th>\n      <td>1.698309e+09</td>\n      <td>0.000000</td>\n      <td>0.000000</td>\n      <td>NaN</td>\n      <td>-0.986400</td>\n    </tr>\n    <tr>\n      <th>25%</th>\n      <td>3.549428e+17</td>\n      <td>25.000000</td>\n      <td>28.000000</td>\n      <td>NaN</td>\n      <td>0.000000</td>\n    </tr>\n    <tr>\n      <th>50%</th>\n      <td>5.609149e+17</td>\n      <td>291.000000</td>\n      <td>247.000000</td>\n      <td>NaN</td>\n      <td>0.359500</td>\n    </tr>\n    <tr>\n      <th>75%</th>\n      <td>7.941218e+17</td>\n      <td>8778.000000</td>\n      <td>32970.750000</td>\n      <td>NaN</td>\n      <td>0.670500</td>\n    </tr>\n    <tr>\n      <th>max</th>\n      <td>1.219077e+18</td>\n      <td>309892.000000</td>\n      <td>857678.000000</td>\n      <td>NaN</td>\n      <td>0.989900</td>\n    </tr>\n  </tbody>\n</table>\n</div>"
     },
     "execution_count": 48,
     "metadata": {},
     "output_type": "execute_result"
    }
   ],
   "source": [
    "data.describe()"
   ],
   "metadata": {
    "collapsed": false,
    "ExecuteTime": {
     "end_time": "2023-06-24T14:58:30.786189897Z",
     "start_time": "2023-06-24T14:58:30.505387300Z"
    }
   }
  },
  {
   "attachments": {},
   "cell_type": "markdown",
   "metadata": {},
   "source": [
    "## Tokenization"
   ]
  },
  {
   "cell_type": "code",
   "execution_count": 49,
   "metadata": {
    "ExecuteTime": {
     "end_time": "2023-06-24T14:59:47.206903341Z",
     "start_time": "2023-06-24T14:59:45.472165622Z"
    }
   },
   "outputs": [
    {
     "data": {
      "text/plain": "0        Be sure tune watch Donald Trump Late Night Dav...\n1        Donald Trump appearing The View tomorrow morni...\n2        Donald Trump reads Top Ten Financial Tips Late...\n3        New Blog Post: Celebrity Apprentice Finale Les...\n4        \"My persona never wallflower - I’d rather buil...\n                               ...                        \n41117    I never seen Republican Party Strong Unified r...\n41118    Now Mini Mike Bloomberg critical Jack Wilson, ...\n41119    I thrilled back Great State Texas tonight, peo...\n41120    “In House, President got less due process 9-11...\n41121      A great show! Check tonight 9pm. @ FoxNewsURL …\nName: content, Length: 41122, dtype: object"
     },
     "execution_count": 49,
     "metadata": {},
     "output_type": "execute_result"
    }
   ],
   "source": [
    "# join tweets back together\n",
    "data['content'] = data['content'].apply(lambda x: ' '.join([word for word in x.split() if word not in stopwords]))\n",
    "data['content']"
   ]
  },
  {
   "cell_type": "code",
   "execution_count": 50,
   "metadata": {
    "ExecuteTime": {
     "end_time": "2023-06-24T14:59:54.643464530Z",
     "start_time": "2023-06-24T14:59:54.616622541Z"
    }
   },
   "outputs": [
    {
     "data": {
      "text/plain": "'Donald Trump reads Top Ten Financial Tips Late Show David Letterman: URL - Very funny!'"
     },
     "execution_count": 50,
     "metadata": {},
     "output_type": "execute_result"
    }
   ],
   "source": [
    "data['content'][2]"
   ]
  },
  {
   "attachments": {},
   "cell_type": "markdown",
   "metadata": {},
   "source": [
    "Teraz prawdopodobnie potrzebujemy jeden wektor dla wszystkich zdań."
   ]
  },
  {
   "cell_type": "code",
   "execution_count": 51,
   "metadata": {
    "ExecuteTime": {
     "end_time": "2023-06-24T15:00:15.524917737Z",
     "start_time": "2023-06-24T15:00:14.188137649Z"
    }
   },
   "outputs": [
    {
     "data": {
      "text/plain": "CountVectorizer(min_df=10)",
      "text/html": "<style>#sk-container-id-3 {color: black;background-color: white;}#sk-container-id-3 pre{padding: 0;}#sk-container-id-3 div.sk-toggleable {background-color: white;}#sk-container-id-3 label.sk-toggleable__label {cursor: pointer;display: block;width: 100%;margin-bottom: 0;padding: 0.3em;box-sizing: border-box;text-align: center;}#sk-container-id-3 label.sk-toggleable__label-arrow:before {content: \"▸\";float: left;margin-right: 0.25em;color: #696969;}#sk-container-id-3 label.sk-toggleable__label-arrow:hover:before {color: black;}#sk-container-id-3 div.sk-estimator:hover label.sk-toggleable__label-arrow:before {color: black;}#sk-container-id-3 div.sk-toggleable__content {max-height: 0;max-width: 0;overflow: hidden;text-align: left;background-color: #f0f8ff;}#sk-container-id-3 div.sk-toggleable__content pre {margin: 0.2em;color: black;border-radius: 0.25em;background-color: #f0f8ff;}#sk-container-id-3 input.sk-toggleable__control:checked~div.sk-toggleable__content {max-height: 200px;max-width: 100%;overflow: auto;}#sk-container-id-3 input.sk-toggleable__control:checked~label.sk-toggleable__label-arrow:before {content: \"▾\";}#sk-container-id-3 div.sk-estimator input.sk-toggleable__control:checked~label.sk-toggleable__label {background-color: #d4ebff;}#sk-container-id-3 div.sk-label input.sk-toggleable__control:checked~label.sk-toggleable__label {background-color: #d4ebff;}#sk-container-id-3 input.sk-hidden--visually {border: 0;clip: rect(1px 1px 1px 1px);clip: rect(1px, 1px, 1px, 1px);height: 1px;margin: -1px;overflow: hidden;padding: 0;position: absolute;width: 1px;}#sk-container-id-3 div.sk-estimator {font-family: monospace;background-color: #f0f8ff;border: 1px dotted black;border-radius: 0.25em;box-sizing: border-box;margin-bottom: 0.5em;}#sk-container-id-3 div.sk-estimator:hover {background-color: #d4ebff;}#sk-container-id-3 div.sk-parallel-item::after {content: \"\";width: 100%;border-bottom: 1px solid gray;flex-grow: 1;}#sk-container-id-3 div.sk-label:hover label.sk-toggleable__label {background-color: #d4ebff;}#sk-container-id-3 div.sk-serial::before {content: \"\";position: absolute;border-left: 1px solid gray;box-sizing: border-box;top: 0;bottom: 0;left: 50%;z-index: 0;}#sk-container-id-3 div.sk-serial {display: flex;flex-direction: column;align-items: center;background-color: white;padding-right: 0.2em;padding-left: 0.2em;position: relative;}#sk-container-id-3 div.sk-item {position: relative;z-index: 1;}#sk-container-id-3 div.sk-parallel {display: flex;align-items: stretch;justify-content: center;background-color: white;position: relative;}#sk-container-id-3 div.sk-item::before, #sk-container-id-3 div.sk-parallel-item::before {content: \"\";position: absolute;border-left: 1px solid gray;box-sizing: border-box;top: 0;bottom: 0;left: 50%;z-index: -1;}#sk-container-id-3 div.sk-parallel-item {display: flex;flex-direction: column;z-index: 1;position: relative;background-color: white;}#sk-container-id-3 div.sk-parallel-item:first-child::after {align-self: flex-end;width: 50%;}#sk-container-id-3 div.sk-parallel-item:last-child::after {align-self: flex-start;width: 50%;}#sk-container-id-3 div.sk-parallel-item:only-child::after {width: 0;}#sk-container-id-3 div.sk-dashed-wrapped {border: 1px dashed gray;margin: 0 0.4em 0.5em 0.4em;box-sizing: border-box;padding-bottom: 0.4em;background-color: white;}#sk-container-id-3 div.sk-label label {font-family: monospace;font-weight: bold;display: inline-block;line-height: 1.2em;}#sk-container-id-3 div.sk-label-container {text-align: center;}#sk-container-id-3 div.sk-container {/* jupyter's `normalize.less` sets `[hidden] { display: none; }` but bootstrap.min.css set `[hidden] { display: none !important; }` so we also need the `!important` here to be able to override the default hidden behavior on the sphinx rendered scikit-learn.org. See: https://github.com/scikit-learn/scikit-learn/issues/21755 */display: inline-block !important;position: relative;}#sk-container-id-3 div.sk-text-repr-fallback {display: none;}</style><div id=\"sk-container-id-3\" class=\"sk-top-container\"><div class=\"sk-text-repr-fallback\"><pre>CountVectorizer(min_df=10)</pre><b>In a Jupyter environment, please rerun this cell to show the HTML representation or trust the notebook. <br />On GitHub, the HTML representation is unable to render, please try loading this page with nbviewer.org.</b></div><div class=\"sk-container\" hidden><div class=\"sk-item\"><div class=\"sk-estimator sk-toggleable\"><input class=\"sk-toggleable__control sk-hidden--visually\" id=\"sk-estimator-id-3\" type=\"checkbox\" checked><label for=\"sk-estimator-id-3\" class=\"sk-toggleable__label sk-toggleable__label-arrow\">CountVectorizer</label><div class=\"sk-toggleable__content\"><pre>CountVectorizer(min_df=10)</pre></div></div></div></div></div>"
     },
     "execution_count": 51,
     "metadata": {},
     "output_type": "execute_result"
    }
   ],
   "source": [
    "# data = pd.read_csv('sentiment_labels.csv')\n",
    "# dic = {'positive': 1, 'negative': -1, 'neutral': 0}\n",
    "# data['sentiment'] = data['sentiment'].map(dic)\n",
    "count_vect = CountVectorizer(min_df=10)  # sprawdzałem w różne strony ~10 jest najlepsze\n",
    "\n",
    "count_vect.fit(data['content'])"
   ]
  },
  {
   "cell_type": "code",
   "execution_count": 52,
   "metadata": {
    "ExecuteTime": {
     "end_time": "2023-06-24T15:00:20.699441244Z",
     "start_time": "2023-06-24T15:00:19.713697455Z"
    }
   },
   "outputs": [],
   "source": [
    "vec_train, vec_test, y_train, y_test = sklearn.model_selection.train_test_split(count_vect.transform(data['content']),\n",
    "                                                                                data['sentiment'], test_size=0.3,\n",
    "                                                                                random_state=0)"
   ]
  },
  {
   "attachments": {},
   "cell_type": "markdown",
   "metadata": {},
   "source": [
    "## Uczenie modelu"
   ]
  },
  {
   "cell_type": "code",
   "execution_count": 61,
   "metadata": {
    "ExecuteTime": {
     "end_time": "2023-06-24T15:21:47.483314375Z",
     "start_time": "2023-06-24T15:21:39.932172735Z"
    }
   },
   "outputs": [
    {
     "data": {
      "text/plain": "0.2625965278547492"
     },
     "execution_count": 61,
     "metadata": {},
     "output_type": "execute_result"
    }
   ],
   "source": [
    "model = xgb.XGBRegressor()\n",
    "model.fit(vec_train, y_train)\n",
    "model.score(vec_test, y_test)"
   ]
  },
  {
   "cell_type": "code",
   "execution_count": 60,
   "metadata": {
    "ExecuteTime": {
     "end_time": "2023-06-24T15:20:41.571386742Z",
     "start_time": "2023-06-24T15:20:41.320625097Z"
    }
   },
   "outputs": [
    {
     "data": {
      "text/plain": "0.7442680160440469"
     },
     "execution_count": 60,
     "metadata": {},
     "output_type": "execute_result"
    }
   ],
   "source": []
  },
  {
   "cell_type": "code",
   "execution_count": 34,
   "metadata": {
    "ExecuteTime": {
     "end_time": "2023-06-24T14:23:00.314598316Z",
     "start_time": "2023-06-24T14:23:00.298382012Z"
    }
   },
   "outputs": [
    {
     "name": "stdout",
     "output_type": "stream",
     "text": [
      "Donald Trump reads Top Ten Financial Tips on Late Show with David Letterman: URL - Very funny!\n",
      "[-1.6161216]\n"
     ]
    }
   ],
   "source": [
    "sentiments = [\"Positive\", \"Neutral\", \"Negative\"]\n",
    "post = data['content'][2]\n",
    "print(post)\n",
    "X_new = count_vect.transform([post]).toarray()\n",
    "\n",
    "y_pred = model.predict(X_new)\n",
    "print(y_pred)"
   ]
  },
  {
   "cell_type": "code",
   "execution_count": 38,
   "outputs": [
    {
     "name": "stdout",
     "output_type": "stream",
     "text": [
      "12337\n"
     ]
    }
   ],
   "source": [
    "# print(sentiments[np.argmax(y_pred)])\n",
    "\n",
    "# predict the labels on validation dataset then print 2 coulumns: 1 predicted and one real\n",
    "\n",
    "pred = model.predict(vec_test)\n"
   ],
   "metadata": {
    "collapsed": false,
    "ExecuteTime": {
     "end_time": "2023-06-24T14:30:08.419879743Z",
     "start_time": "2023-06-24T14:30:07.126701262Z"
    }
   }
  },
  {
   "cell_type": "code",
   "execution_count": 39,
   "outputs": [
    {
     "data": {
      "text/plain": "          predicted          real\ncount  12337.000000  12337.000000\nmean       0.325656      0.323498\nstd        0.682811      0.847477\nmin       -2.753288     -1.000000\n25%       -0.071253      0.000000\n50%        0.374715      1.000000\n75%        0.894108      1.000000\nmax        2.595783      1.000000",
      "text/html": "<div>\n<style scoped>\n    .dataframe tbody tr th:only-of-type {\n        vertical-align: middle;\n    }\n\n    .dataframe tbody tr th {\n        vertical-align: top;\n    }\n\n    .dataframe thead th {\n        text-align: right;\n    }\n</style>\n<table border=\"1\" class=\"dataframe\">\n  <thead>\n    <tr style=\"text-align: right;\">\n      <th></th>\n      <th>predicted</th>\n      <th>real</th>\n    </tr>\n  </thead>\n  <tbody>\n    <tr>\n      <th>count</th>\n      <td>12337.000000</td>\n      <td>12337.000000</td>\n    </tr>\n    <tr>\n      <th>mean</th>\n      <td>0.325656</td>\n      <td>0.323498</td>\n    </tr>\n    <tr>\n      <th>std</th>\n      <td>0.682811</td>\n      <td>0.847477</td>\n    </tr>\n    <tr>\n      <th>min</th>\n      <td>-2.753288</td>\n      <td>-1.000000</td>\n    </tr>\n    <tr>\n      <th>25%</th>\n      <td>-0.071253</td>\n      <td>0.000000</td>\n    </tr>\n    <tr>\n      <th>50%</th>\n      <td>0.374715</td>\n      <td>1.000000</td>\n    </tr>\n    <tr>\n      <th>75%</th>\n      <td>0.894108</td>\n      <td>1.000000</td>\n    </tr>\n    <tr>\n      <th>max</th>\n      <td>2.595783</td>\n      <td>1.000000</td>\n    </tr>\n  </tbody>\n</table>\n</div>"
     },
     "execution_count": 39,
     "metadata": {},
     "output_type": "execute_result"
    }
   ],
   "source": [
    "dp = pd.DataFrame({'predicted': pred, 'real': y_test})\n",
    "dp.describe()\n"
   ],
   "metadata": {
    "collapsed": false,
    "ExecuteTime": {
     "end_time": "2023-06-24T14:30:26.292066043Z",
     "start_time": "2023-06-24T14:30:26.250868054Z"
    }
   }
  },
  {
   "cell_type": "code",
   "execution_count": 40,
   "outputs": [
    {
     "data": {
      "text/plain": "       predicted  real\n32467   0.498823     1\n37751   0.004928     1\n33040   1.147345     1\n23505   0.174590     0\n29434   1.001938     1\n...          ...   ...\n38442   0.801742     1\n28308  -0.824857    -1\n10452   0.901519     1\n11792   1.011760     1\n14426  -0.052958     0\n\n[100 rows x 2 columns]",
      "text/html": "<div>\n<style scoped>\n    .dataframe tbody tr th:only-of-type {\n        vertical-align: middle;\n    }\n\n    .dataframe tbody tr th {\n        vertical-align: top;\n    }\n\n    .dataframe thead th {\n        text-align: right;\n    }\n</style>\n<table border=\"1\" class=\"dataframe\">\n  <thead>\n    <tr style=\"text-align: right;\">\n      <th></th>\n      <th>predicted</th>\n      <th>real</th>\n    </tr>\n  </thead>\n  <tbody>\n    <tr>\n      <th>32467</th>\n      <td>0.498823</td>\n      <td>1</td>\n    </tr>\n    <tr>\n      <th>37751</th>\n      <td>0.004928</td>\n      <td>1</td>\n    </tr>\n    <tr>\n      <th>33040</th>\n      <td>1.147345</td>\n      <td>1</td>\n    </tr>\n    <tr>\n      <th>23505</th>\n      <td>0.174590</td>\n      <td>0</td>\n    </tr>\n    <tr>\n      <th>29434</th>\n      <td>1.001938</td>\n      <td>1</td>\n    </tr>\n    <tr>\n      <th>...</th>\n      <td>...</td>\n      <td>...</td>\n    </tr>\n    <tr>\n      <th>38442</th>\n      <td>0.801742</td>\n      <td>1</td>\n    </tr>\n    <tr>\n      <th>28308</th>\n      <td>-0.824857</td>\n      <td>-1</td>\n    </tr>\n    <tr>\n      <th>10452</th>\n      <td>0.901519</td>\n      <td>1</td>\n    </tr>\n    <tr>\n      <th>11792</th>\n      <td>1.011760</td>\n      <td>1</td>\n    </tr>\n    <tr>\n      <th>14426</th>\n      <td>-0.052958</td>\n      <td>0</td>\n    </tr>\n  </tbody>\n</table>\n<p>100 rows × 2 columns</p>\n</div>"
     },
     "execution_count": 40,
     "metadata": {},
     "output_type": "execute_result"
    }
   ],
   "source": [
    "dp.head(100)\n"
   ],
   "metadata": {
    "collapsed": false,
    "ExecuteTime": {
     "end_time": "2023-06-24T14:31:02.550089582Z",
     "start_time": "2023-06-24T14:31:02.542775699Z"
    }
   }
  }
 ],
 "metadata": {
  "kernelspec": {
   "display_name": "Python 3",
   "language": "python",
   "name": "python3"
  },
  "language_info": {
   "codemirror_mode": {
    "name": "ipython",
    "version": 3
   },
   "file_extension": ".py",
   "mimetype": "text/x-python",
   "name": "python",
   "nbconvert_exporter": "python",
   "pygments_lexer": "ipython3",
   "version": "3.11.2"
  },
  "orig_nbformat": 4
 },
 "nbformat": 4,
 "nbformat_minor": 2
}
